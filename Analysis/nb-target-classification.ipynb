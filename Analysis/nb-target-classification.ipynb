{
 "cells": [
  {
   "cell_type": "code",
   "execution_count": 22,
   "metadata": {},
   "outputs": [],
   "source": [
    "import pandas as pd \n",
    "import torch   \n",
    "from torch.utils.data import Dataset, DataLoader\n",
    "from tqdm import tqdm \n",
    "from covNeut_esm2_struct import CovNeut_ftESM \n",
    "from covbind_esm2_struct import CovBind_ftESM \n",
    "#from covBoth_esm2_struct import CovBoth_ftESM \n",
    "from Pretrained.ESM2_MLM_Struct.tokenizer import ESM2_Tokenizer  \n",
    "from sklearn.manifold import TSNE  \n",
    "#from silhouette import silhouette_score  \n",
    "from sklearn.metrics import classification_report, accuracy_score, f1_score  "
   ]
  },
  {
   "cell_type": "code",
   "execution_count": 5,
   "metadata": {},
   "outputs": [],
   "source": [
    "class SequenceDataset(Dataset):\n",
    "    def __init__(self, vh_seqs, vl_seqs, targets, labels):\n",
    "        self.vh_seqs = vh_seqs \n",
    "        self.vl_seqs = vl_seqs \n",
    "        self.targets = targets\n",
    "        self.labels = labels \n",
    "        self.tg_embs = torch.load('data/target_embeddings.pt') \n",
    "        self.tok = ESM2_Tokenizer()\n",
    "\n",
    "    def __len__(self):\n",
    "        return len(self.labels)\n",
    "\n",
    "    def __getitem__(self, idx):\n",
    "        vh_seq = self.tok.encode(self.vh_seqs[idx], max_length=228) \n",
    "        vl_seq = self.tok.encode(self.vl_seqs[idx], max_length=217)  \n",
    "        target = self.tg_embs[self.targets[idx]][0,:] \n",
    "        label = self.labels[idx]\n",
    "        return vh_seq, vl_seq, target, torch.tensor(label, dtype=torch.float32) \n",
    "    \n",
    "def get_combined_embs(model, data_loader, device):\n",
    "    model.to(device)\n",
    "    model.eval()\n",
    "    embs = [] \n",
    "    cls_labels = [] \n",
    "    with torch.no_grad():\n",
    "        for vh_ids,  vl_ids, ag_embs, labels in tqdm(data_loader, desc=\"Testing\"):\n",
    "            vh_ids = vh_ids.to(device) \n",
    "            vl_ids = vl_ids.to(device)\n",
    "            ag_embs = ag_embs.to(device) \n",
    "            combined_embs = model(vh_ids, vl_ids, ag_embs, return_combined_emb=True) \n",
    "            print(combined_embs.shape, flush=True) \n",
    "            embs.append(combined_embs)\n",
    "            cls_labels.append(labels) \n",
    "    result = torch.cat(embs, dim=0) \n",
    "    return result , torch.cat(cls_labels, dim=0) \n",
    "\n",
    "def test_run(model, data_loader, device):\n",
    "    model.to(device)\n",
    "    model.eval()\n",
    "    all_predictions = [] \n",
    "    actual_class = []\n",
    "    with torch.no_grad():\n",
    "        for vh_ids,  vl_ids, ag_embs, labels in tqdm(data_loader, desc=\"Test\"):\n",
    "            vh_ids = vh_ids.to(device) \n",
    "            vl_ids = vl_ids.to(device)\n",
    "            ag_embs = ag_embs.to(device) \n",
    "            labels = labels.to(device)\n",
    "            logits = model(vh_ids, vl_ids, ag_embs)\n",
    "            predictions = torch.sigmoid(logits).round() \n",
    "            all_predictions.extend(predictions.view(-1).tolist())\n",
    "            actual_class.extend(labels.detach().tolist())\n",
    "    report = classification_report(actual_class, all_predictions, target_names=['Neg', 'Pos'], digits=4)\n",
    "    print(report)\n",
    "    return all_predictions "
   ]
  },
  {
   "cell_type": "markdown",
   "metadata": {},
   "source": [
    "### Binding"
   ]
  },
  {
   "cell_type": "code",
   "execution_count": 6,
   "metadata": {},
   "outputs": [],
   "source": [
    "device = torch.device('cuda' if torch.cuda.is_available() else 'cpu') \n",
    "df_test = pd.read_csv('data/test_data.csv') \n",
    "\n",
    "    # create dataloader \n",
    "dataset_test = SequenceDataset(df_test['Antibody VH'].tolist(), \n",
    "                        df_test['Antibody VL'].tolist(),\n",
    "                        df_test['Target'].tolist(),\n",
    "                        df_test['Binding'].tolist())\n",
    "data_loader_test = DataLoader(dataset_test, batch_size=12, shuffle=False) \n"
   ]
  },
  {
   "cell_type": "code",
   "execution_count": 7,
   "metadata": {},
   "outputs": [
    {
     "data": {
      "text/plain": [
       "<All keys matched successfully>"
      ]
     },
     "execution_count": 7,
     "metadata": {},
     "output_type": "execute_result"
    }
   ],
   "source": [
    "# load model \n",
    "model_weight_path = 'saved_models/covbind_ESM2_Struct_ft.pth'\n",
    "model = CovBind_ftESM(load_weights=False)  \n",
    "model.load_state_dict(torch.load(model_weight_path, map_location=device))"
   ]
  },
  {
   "cell_type": "code",
   "execution_count": 8,
   "metadata": {},
   "outputs": [
    {
     "name": "stderr",
     "output_type": "stream",
     "text": [
      "Test: 100%|██████████| 84/84 [00:16<00:00,  5.12it/s]"
     ]
    },
    {
     "name": "stdout",
     "output_type": "stream",
     "text": [
      "              precision    recall  f1-score   support\n",
      "\n",
      "         Neg     0.8564    0.8357    0.8460       414\n",
      "         Pos     0.8859    0.9010    0.8934       586\n",
      "\n",
      "    accuracy                         0.8740      1000\n",
      "   macro avg     0.8712    0.8684    0.8697      1000\n",
      "weighted avg     0.8737    0.8740    0.8738      1000\n",
      "\n"
     ]
    },
    {
     "name": "stderr",
     "output_type": "stream",
     "text": [
      "\n"
     ]
    }
   ],
   "source": [
    "pred_binds = test_run(model, data_loader_test, device)"
   ]
  },
  {
   "cell_type": "code",
   "execution_count": 10,
   "metadata": {},
   "outputs": [
    {
     "data": {
      "text/html": [
       "<div>\n",
       "<style scoped>\n",
       "    .dataframe tbody tr th:only-of-type {\n",
       "        vertical-align: middle;\n",
       "    }\n",
       "\n",
       "    .dataframe tbody tr th {\n",
       "        vertical-align: top;\n",
       "    }\n",
       "\n",
       "    .dataframe thead th {\n",
       "        text-align: right;\n",
       "    }\n",
       "</style>\n",
       "<table border=\"1\" class=\"dataframe\">\n",
       "  <thead>\n",
       "    <tr style=\"text-align: right;\">\n",
       "      <th></th>\n",
       "      <th>Antibody</th>\n",
       "      <th>Antibody VH</th>\n",
       "      <th>Antibody VL</th>\n",
       "      <th>Target</th>\n",
       "      <th>Binding</th>\n",
       "      <th>Neutralizing</th>\n",
       "      <th>Target Sequence</th>\n",
       "      <th>Label</th>\n",
       "    </tr>\n",
       "  </thead>\n",
       "  <tbody>\n",
       "    <tr>\n",
       "      <th>0</th>\n",
       "      <td>BD57-0226</td>\n",
       "      <td>QEQLVESGGGVVQPGRSLRLSCAASGFTFSHYGMHWVRQAPGKGLE...</td>\n",
       "      <td>QSVLTQPPSASGTPGQRVTISCSGSSSNIGSNFVHWYQQLPGTAPK...</td>\n",
       "      <td>sars-cov2-omicron-ba5</td>\n",
       "      <td>1</td>\n",
       "      <td>0</td>\n",
       "      <td>MFVFLVLLPLV----SSQCVNLITRTQ---SYTNSFTRGVYYPDKV...</td>\n",
       "      <td>1</td>\n",
       "    </tr>\n",
       "    <tr>\n",
       "      <th>1</th>\n",
       "      <td>BD56-697</td>\n",
       "      <td>QVQLQESGPGLVKPSQTLSLTCTVSGDSISSGGYYWSWIRQRPGKG...</td>\n",
       "      <td>SYELTQPPSVSVSPGQTARITCSGDALPKQHAYWYQQKSGQAPVLV...</td>\n",
       "      <td>sars-cov2-wt</td>\n",
       "      <td>0</td>\n",
       "      <td>0</td>\n",
       "      <td>MFVFLVLLPLV----SSQCVNLTTRTQLPPAYTNSFTRGVYYPDKV...</td>\n",
       "      <td>2</td>\n",
       "    </tr>\n",
       "    <tr>\n",
       "      <th>2</th>\n",
       "      <td>V016</td>\n",
       "      <td>QVQLVESGGGVVQPGRSLRLSCAASGFTFSNYGMHWVRQAPGKGLE...</td>\n",
       "      <td>DIQMTQSPSTLSASVGDRVTITCRASQSISSWLAWYQQKPGKAPKL...</td>\n",
       "      <td>sars-cov2-wt</td>\n",
       "      <td>1</td>\n",
       "      <td>0</td>\n",
       "      <td>MFVFLVLLPLV----SSQCVNLTTRTQLPPAYTNSFTRGVYYPDKV...</td>\n",
       "      <td>1</td>\n",
       "    </tr>\n",
       "    <tr>\n",
       "      <th>3</th>\n",
       "      <td>BD56-210</td>\n",
       "      <td>VQLVQSGAEVKKPGASVKISCKASGYTFSNSYLHWVRQAPGQGLEW...</td>\n",
       "      <td>EIVLTQSPATLSLSPGERATLSCRASQSVSSYVAWYQQKPGQAPRL...</td>\n",
       "      <td>sars-cov2-omicron-xbb1</td>\n",
       "      <td>0</td>\n",
       "      <td>0</td>\n",
       "      <td>LYLLGMLVASV----LAQCVNLITRTQ---SYTNSFTRGVYYPDKV...</td>\n",
       "      <td>2</td>\n",
       "    </tr>\n",
       "    <tr>\n",
       "      <th>4</th>\n",
       "      <td>BD55-4348</td>\n",
       "      <td>QVQLVESGGGVVQPGRSLRLSCAASGFTFRSYSMQWVRQAPGEGLE...</td>\n",
       "      <td>SYVLTQPPSVSVAPGKTARITCGGDNIGSYSVHWYQQKPGQAPVLV...</td>\n",
       "      <td>sars-cov2-omicron-ba2.12.1</td>\n",
       "      <td>0</td>\n",
       "      <td>0</td>\n",
       "      <td>MFVFLVLLPLV----SSQCVNLITRTQ---SYTNSFTRGVYYPDKV...</td>\n",
       "      <td>2</td>\n",
       "    </tr>\n",
       "  </tbody>\n",
       "</table>\n",
       "</div>"
      ],
      "text/plain": [
       "    Antibody                                        Antibody VH  \\\n",
       "0  BD57-0226  QEQLVESGGGVVQPGRSLRLSCAASGFTFSHYGMHWVRQAPGKGLE...   \n",
       "1   BD56-697  QVQLQESGPGLVKPSQTLSLTCTVSGDSISSGGYYWSWIRQRPGKG...   \n",
       "2       V016  QVQLVESGGGVVQPGRSLRLSCAASGFTFSNYGMHWVRQAPGKGLE...   \n",
       "3   BD56-210  VQLVQSGAEVKKPGASVKISCKASGYTFSNSYLHWVRQAPGQGLEW...   \n",
       "4  BD55-4348  QVQLVESGGGVVQPGRSLRLSCAASGFTFRSYSMQWVRQAPGEGLE...   \n",
       "\n",
       "                                         Antibody VL  \\\n",
       "0  QSVLTQPPSASGTPGQRVTISCSGSSSNIGSNFVHWYQQLPGTAPK...   \n",
       "1  SYELTQPPSVSVSPGQTARITCSGDALPKQHAYWYQQKSGQAPVLV...   \n",
       "2  DIQMTQSPSTLSASVGDRVTITCRASQSISSWLAWYQQKPGKAPKL...   \n",
       "3  EIVLTQSPATLSLSPGERATLSCRASQSVSSYVAWYQQKPGQAPRL...   \n",
       "4  SYVLTQPPSVSVAPGKTARITCGGDNIGSYSVHWYQQKPGQAPVLV...   \n",
       "\n",
       "                       Target  Binding  Neutralizing  \\\n",
       "0       sars-cov2-omicron-ba5        1             0   \n",
       "1                sars-cov2-wt        0             0   \n",
       "2                sars-cov2-wt        1             0   \n",
       "3      sars-cov2-omicron-xbb1        0             0   \n",
       "4  sars-cov2-omicron-ba2.12.1        0             0   \n",
       "\n",
       "                                     Target Sequence  Label  \n",
       "0  MFVFLVLLPLV----SSQCVNLITRTQ---SYTNSFTRGVYYPDKV...      1  \n",
       "1  MFVFLVLLPLV----SSQCVNLTTRTQLPPAYTNSFTRGVYYPDKV...      2  \n",
       "2  MFVFLVLLPLV----SSQCVNLTTRTQLPPAYTNSFTRGVYYPDKV...      1  \n",
       "3  LYLLGMLVASV----LAQCVNLITRTQ---SYTNSFTRGVYYPDKV...      2  \n",
       "4  MFVFLVLLPLV----SSQCVNLITRTQ---SYTNSFTRGVYYPDKV...      2  "
      ]
     },
     "execution_count": 10,
     "metadata": {},
     "output_type": "execute_result"
    }
   ],
   "source": [
    "df_test.head()"
   ]
  },
  {
   "cell_type": "code",
   "execution_count": 11,
   "metadata": {},
   "outputs": [],
   "source": [
    "df_test['pred_binding'] = pred_binds"
   ]
  },
  {
   "cell_type": "code",
   "execution_count": 16,
   "metadata": {},
   "outputs": [
    {
     "data": {
      "text/html": [
       "<div>\n",
       "<style scoped>\n",
       "    .dataframe tbody tr th:only-of-type {\n",
       "        vertical-align: middle;\n",
       "    }\n",
       "\n",
       "    .dataframe tbody tr th {\n",
       "        vertical-align: top;\n",
       "    }\n",
       "\n",
       "    .dataframe thead th {\n",
       "        text-align: right;\n",
       "    }\n",
       "</style>\n",
       "<table border=\"1\" class=\"dataframe\">\n",
       "  <thead>\n",
       "    <tr style=\"text-align: right;\">\n",
       "      <th></th>\n",
       "      <th>Antibody</th>\n",
       "      <th>Target</th>\n",
       "      <th>Binding</th>\n",
       "      <th>pred_binding</th>\n",
       "    </tr>\n",
       "  </thead>\n",
       "  <tbody>\n",
       "    <tr>\n",
       "      <th>0</th>\n",
       "      <td>BD57-0226</td>\n",
       "      <td>sars-cov2-omicron-ba5</td>\n",
       "      <td>1</td>\n",
       "      <td>0.0</td>\n",
       "    </tr>\n",
       "    <tr>\n",
       "      <th>1</th>\n",
       "      <td>BD56-697</td>\n",
       "      <td>sars-cov2-wt</td>\n",
       "      <td>0</td>\n",
       "      <td>0.0</td>\n",
       "    </tr>\n",
       "    <tr>\n",
       "      <th>2</th>\n",
       "      <td>V016</td>\n",
       "      <td>sars-cov2-wt</td>\n",
       "      <td>1</td>\n",
       "      <td>1.0</td>\n",
       "    </tr>\n",
       "    <tr>\n",
       "      <th>3</th>\n",
       "      <td>BD56-210</td>\n",
       "      <td>sars-cov2-omicron-xbb1</td>\n",
       "      <td>0</td>\n",
       "      <td>0.0</td>\n",
       "    </tr>\n",
       "    <tr>\n",
       "      <th>4</th>\n",
       "      <td>BD55-4348</td>\n",
       "      <td>sars-cov2-omicron-ba2.12.1</td>\n",
       "      <td>0</td>\n",
       "      <td>0.0</td>\n",
       "    </tr>\n",
       "    <tr>\n",
       "      <th>...</th>\n",
       "      <td>...</td>\n",
       "      <td>...</td>\n",
       "      <td>...</td>\n",
       "      <td>...</td>\n",
       "    </tr>\n",
       "    <tr>\n",
       "      <th>995</th>\n",
       "      <td>BD-695</td>\n",
       "      <td>sars-cov2-omicron-ba2</td>\n",
       "      <td>0</td>\n",
       "      <td>0.0</td>\n",
       "    </tr>\n",
       "    <tr>\n",
       "      <th>996</th>\n",
       "      <td>BD55-6705</td>\n",
       "      <td>sars-cov2-omicron-ba5</td>\n",
       "      <td>0</td>\n",
       "      <td>1.0</td>\n",
       "    </tr>\n",
       "    <tr>\n",
       "      <th>997</th>\n",
       "      <td>BD56-447</td>\n",
       "      <td>sars-cov2-omicron-ba2</td>\n",
       "      <td>1</td>\n",
       "      <td>1.0</td>\n",
       "    </tr>\n",
       "    <tr>\n",
       "      <th>998</th>\n",
       "      <td>BD56-700</td>\n",
       "      <td>sars-cov2-omicron-ba4</td>\n",
       "      <td>1</td>\n",
       "      <td>1.0</td>\n",
       "    </tr>\n",
       "    <tr>\n",
       "      <th>999</th>\n",
       "      <td>BD55-4392</td>\n",
       "      <td>sars-cov2-omicron-ba5</td>\n",
       "      <td>0</td>\n",
       "      <td>0.0</td>\n",
       "    </tr>\n",
       "  </tbody>\n",
       "</table>\n",
       "<p>1000 rows × 4 columns</p>\n",
       "</div>"
      ],
      "text/plain": [
       "      Antibody                      Target  Binding  pred_binding\n",
       "0    BD57-0226       sars-cov2-omicron-ba5        1           0.0\n",
       "1     BD56-697                sars-cov2-wt        0           0.0\n",
       "2         V016                sars-cov2-wt        1           1.0\n",
       "3     BD56-210      sars-cov2-omicron-xbb1        0           0.0\n",
       "4    BD55-4348  sars-cov2-omicron-ba2.12.1        0           0.0\n",
       "..         ...                         ...      ...           ...\n",
       "995     BD-695       sars-cov2-omicron-ba2        0           0.0\n",
       "996  BD55-6705       sars-cov2-omicron-ba5        0           1.0\n",
       "997   BD56-447       sars-cov2-omicron-ba2        1           1.0\n",
       "998   BD56-700       sars-cov2-omicron-ba4        1           1.0\n",
       "999  BD55-4392       sars-cov2-omicron-ba5        0           0.0\n",
       "\n",
       "[1000 rows x 4 columns]"
      ]
     },
     "execution_count": 16,
     "metadata": {},
     "output_type": "execute_result"
    }
   ],
   "source": [
    "df_test[['Antibody', 'Target', 'Binding', 'pred_binding']]"
   ]
  },
  {
   "cell_type": "code",
   "execution_count": 18,
   "metadata": {},
   "outputs": [],
   "source": [
    "unq_targets = df_test['Target'].unique()"
   ]
  },
  {
   "cell_type": "code",
   "execution_count": 24,
   "metadata": {},
   "outputs": [],
   "source": [
    "binding_f1 = {} \n",
    "for ag in unq_targets:\n",
    "    tmp_df = df_test[df_test['Target']==ag]\n",
    "    f1 = f1_score(tmp_df['Binding'], tmp_df['pred_binding'])\n",
    "    binding_f1[ag] = f1"
   ]
  },
  {
   "cell_type": "code",
   "execution_count": 25,
   "metadata": {},
   "outputs": [
    {
     "data": {
      "text/plain": [
       "{'sars-cov2-omicron-ba5': 0.831858407079646,\n",
       " 'sars-cov2-wt': 0.9237668161434978,\n",
       " 'sars-cov2-omicron-xbb1': 0.5714285714285714,\n",
       " 'sars-cov2-omicron-ba2.12.1': 0.9375,\n",
       " 'sars-cov2-delta': 0.9545454545454546,\n",
       " 'sars-cov2-omicron-ba2': 0.954954954954955,\n",
       " 'sars-cov2-omicron-ba2.75': 0.9577464788732394,\n",
       " 'sars-cov-1': 0.5833333333333334,\n",
       " 'sars-cov2-omicron-ba1.1': 0.8888888888888888,\n",
       " 'sars-cov2-omicron-ba1': 0.9230769230769231,\n",
       " 'sars-cov2-omicron-ba4': 0.7555555555555555,\n",
       " 'sars-cov2-omicron-ba2.13': 1.0,\n",
       " 'sars-cov2-omicron-ba3': 1.0,\n",
       " 'sars-cov2-beta': 0.8235294117647058}"
      ]
     },
     "execution_count": 25,
     "metadata": {},
     "output_type": "execute_result"
    }
   ],
   "source": [
    "binding_f1"
   ]
  },
  {
   "cell_type": "code",
   "execution_count": null,
   "metadata": {},
   "outputs": [],
   "source": []
  },
  {
   "cell_type": "markdown",
   "metadata": {},
   "source": [
    "### Neutralizing"
   ]
  },
  {
   "cell_type": "code",
   "execution_count": 29,
   "metadata": {},
   "outputs": [],
   "source": [
    "device = torch.device('cuda' if torch.cuda.is_available() else 'cpu') \n",
    "df_test = pd.read_csv('data/test_data.csv') \n",
    "\n",
    "    # create dataloader \n",
    "dataset_test = SequenceDataset(df_test['Antibody VH'].tolist(), \n",
    "                        df_test['Antibody VL'].tolist(),\n",
    "                        df_test['Target'].tolist(),\n",
    "                        df_test['Neutralizing'].tolist())\n",
    "data_loader_test2 = DataLoader(dataset_test, batch_size=12, shuffle=False) "
   ]
  },
  {
   "cell_type": "code",
   "execution_count": 28,
   "metadata": {},
   "outputs": [
    {
     "data": {
      "text/plain": [
       "<All keys matched successfully>"
      ]
     },
     "execution_count": 28,
     "metadata": {},
     "output_type": "execute_result"
    }
   ],
   "source": [
    "# load model \n",
    "model_weight_path = 'saved_models/covneut_ESM2_Struct_ft.pth'\n",
    "model2 = CovNeut_ftESM(load_weights=False)  \n",
    "model2.load_state_dict(torch.load(model_weight_path, map_location=device))"
   ]
  },
  {
   "cell_type": "code",
   "execution_count": 31,
   "metadata": {},
   "outputs": [
    {
     "name": "stderr",
     "output_type": "stream",
     "text": [
      "Test:   0%|          | 0/84 [00:00<?, ?it/s]"
     ]
    },
    {
     "name": "stderr",
     "output_type": "stream",
     "text": [
      "Test: 100%|██████████| 84/84 [00:15<00:00,  5.35it/s]"
     ]
    },
    {
     "name": "stdout",
     "output_type": "stream",
     "text": [
      "              precision    recall  f1-score   support\n",
      "\n",
      "         Neg     0.9112    0.9203    0.9157       602\n",
      "         Pos     0.8776    0.8643    0.8709       398\n",
      "\n",
      "    accuracy                         0.8980      1000\n",
      "   macro avg     0.8944    0.8923    0.8933      1000\n",
      "weighted avg     0.8978    0.8980    0.8979      1000\n",
      "\n"
     ]
    },
    {
     "name": "stderr",
     "output_type": "stream",
     "text": [
      "\n"
     ]
    }
   ],
   "source": [
    "pred_neut = test_run(model2, data_loader_test2, device)"
   ]
  },
  {
   "cell_type": "code",
   "execution_count": 32,
   "metadata": {},
   "outputs": [],
   "source": [
    "df_test['pred_neut'] = pred_neut"
   ]
  },
  {
   "cell_type": "code",
   "execution_count": 33,
   "metadata": {},
   "outputs": [],
   "source": [
    "unq_targets = df_test['Target'].unique()"
   ]
  },
  {
   "cell_type": "code",
   "execution_count": 34,
   "metadata": {},
   "outputs": [],
   "source": [
    "neut_f1 = {} \n",
    "for ag in unq_targets:\n",
    "    tmp_df = df_test[df_test['Target']==ag]\n",
    "    f1 = f1_score(tmp_df['Neutralizing'], tmp_df['pred_neut'])\n",
    "    neut_f1[ag] = f1"
   ]
  },
  {
   "cell_type": "code",
   "execution_count": 35,
   "metadata": {},
   "outputs": [
    {
     "data": {
      "text/plain": [
       "{'sars-cov2-omicron-ba5': 0.8846153846153846,\n",
       " 'sars-cov2-wt': 0.8493150684931506,\n",
       " 'sars-cov2-omicron-xbb1': 0.6666666666666666,\n",
       " 'sars-cov2-omicron-ba2.12.1': 1.0,\n",
       " 'sars-cov2-delta': 1.0,\n",
       " 'sars-cov2-omicron-ba2': 0.8837209302325582,\n",
       " 'sars-cov2-omicron-ba2.75': 0.9428571428571428,\n",
       " 'sars-cov-1': 0.47058823529411764,\n",
       " 'sars-cov2-omicron-ba1.1': 1.0,\n",
       " 'sars-cov2-omicron-ba1': 0.8292682926829268,\n",
       " 'sars-cov2-omicron-ba4': 0.7567567567567568,\n",
       " 'sars-cov2-omicron-ba2.13': 0.9473684210526315,\n",
       " 'sars-cov2-omicron-ba3': 0.9302325581395349,\n",
       " 'sars-cov2-beta': 0.75}"
      ]
     },
     "execution_count": 35,
     "metadata": {},
     "output_type": "execute_result"
    }
   ],
   "source": [
    "neut_f1"
   ]
  },
  {
   "cell_type": "code",
   "execution_count": null,
   "metadata": {},
   "outputs": [],
   "source": []
  },
  {
   "cell_type": "code",
   "execution_count": 36,
   "metadata": {},
   "outputs": [],
   "source": [
    "df_tg = pd.DataFrame()"
   ]
  },
  {
   "cell_type": "code",
   "execution_count": 37,
   "metadata": {},
   "outputs": [],
   "source": [
    "df_tg.index = binding_f1.keys()"
   ]
  },
  {
   "cell_type": "code",
   "execution_count": 38,
   "metadata": {},
   "outputs": [],
   "source": [
    "df_tg['Binding'] = binding_f1.values()"
   ]
  },
  {
   "cell_type": "code",
   "execution_count": 39,
   "metadata": {},
   "outputs": [],
   "source": [
    "df_tg['Neutralizing'] = neut_f1.values()"
   ]
  },
  {
   "cell_type": "code",
   "execution_count": 40,
   "metadata": {},
   "outputs": [
    {
     "data": {
      "text/html": [
       "<div>\n",
       "<style scoped>\n",
       "    .dataframe tbody tr th:only-of-type {\n",
       "        vertical-align: middle;\n",
       "    }\n",
       "\n",
       "    .dataframe tbody tr th {\n",
       "        vertical-align: top;\n",
       "    }\n",
       "\n",
       "    .dataframe thead th {\n",
       "        text-align: right;\n",
       "    }\n",
       "</style>\n",
       "<table border=\"1\" class=\"dataframe\">\n",
       "  <thead>\n",
       "    <tr style=\"text-align: right;\">\n",
       "      <th></th>\n",
       "      <th>Binding</th>\n",
       "      <th>Neutralizing</th>\n",
       "    </tr>\n",
       "  </thead>\n",
       "  <tbody>\n",
       "    <tr>\n",
       "      <th>sars-cov2-omicron-ba5</th>\n",
       "      <td>0.831858</td>\n",
       "      <td>0.884615</td>\n",
       "    </tr>\n",
       "    <tr>\n",
       "      <th>sars-cov2-wt</th>\n",
       "      <td>0.923767</td>\n",
       "      <td>0.849315</td>\n",
       "    </tr>\n",
       "    <tr>\n",
       "      <th>sars-cov2-omicron-xbb1</th>\n",
       "      <td>0.571429</td>\n",
       "      <td>0.666667</td>\n",
       "    </tr>\n",
       "    <tr>\n",
       "      <th>sars-cov2-omicron-ba2.12.1</th>\n",
       "      <td>0.937500</td>\n",
       "      <td>1.000000</td>\n",
       "    </tr>\n",
       "    <tr>\n",
       "      <th>sars-cov2-delta</th>\n",
       "      <td>0.954545</td>\n",
       "      <td>1.000000</td>\n",
       "    </tr>\n",
       "    <tr>\n",
       "      <th>sars-cov2-omicron-ba2</th>\n",
       "      <td>0.954955</td>\n",
       "      <td>0.883721</td>\n",
       "    </tr>\n",
       "    <tr>\n",
       "      <th>sars-cov2-omicron-ba2.75</th>\n",
       "      <td>0.957746</td>\n",
       "      <td>0.942857</td>\n",
       "    </tr>\n",
       "    <tr>\n",
       "      <th>sars-cov-1</th>\n",
       "      <td>0.583333</td>\n",
       "      <td>0.470588</td>\n",
       "    </tr>\n",
       "    <tr>\n",
       "      <th>sars-cov2-omicron-ba1.1</th>\n",
       "      <td>0.888889</td>\n",
       "      <td>1.000000</td>\n",
       "    </tr>\n",
       "    <tr>\n",
       "      <th>sars-cov2-omicron-ba1</th>\n",
       "      <td>0.923077</td>\n",
       "      <td>0.829268</td>\n",
       "    </tr>\n",
       "    <tr>\n",
       "      <th>sars-cov2-omicron-ba4</th>\n",
       "      <td>0.755556</td>\n",
       "      <td>0.756757</td>\n",
       "    </tr>\n",
       "    <tr>\n",
       "      <th>sars-cov2-omicron-ba2.13</th>\n",
       "      <td>1.000000</td>\n",
       "      <td>0.947368</td>\n",
       "    </tr>\n",
       "    <tr>\n",
       "      <th>sars-cov2-omicron-ba3</th>\n",
       "      <td>1.000000</td>\n",
       "      <td>0.930233</td>\n",
       "    </tr>\n",
       "    <tr>\n",
       "      <th>sars-cov2-beta</th>\n",
       "      <td>0.823529</td>\n",
       "      <td>0.750000</td>\n",
       "    </tr>\n",
       "  </tbody>\n",
       "</table>\n",
       "</div>"
      ],
      "text/plain": [
       "                             Binding  Neutralizing\n",
       "sars-cov2-omicron-ba5       0.831858      0.884615\n",
       "sars-cov2-wt                0.923767      0.849315\n",
       "sars-cov2-omicron-xbb1      0.571429      0.666667\n",
       "sars-cov2-omicron-ba2.12.1  0.937500      1.000000\n",
       "sars-cov2-delta             0.954545      1.000000\n",
       "sars-cov2-omicron-ba2       0.954955      0.883721\n",
       "sars-cov2-omicron-ba2.75    0.957746      0.942857\n",
       "sars-cov-1                  0.583333      0.470588\n",
       "sars-cov2-omicron-ba1.1     0.888889      1.000000\n",
       "sars-cov2-omicron-ba1       0.923077      0.829268\n",
       "sars-cov2-omicron-ba4       0.755556      0.756757\n",
       "sars-cov2-omicron-ba2.13    1.000000      0.947368\n",
       "sars-cov2-omicron-ba3       1.000000      0.930233\n",
       "sars-cov2-beta              0.823529      0.750000"
      ]
     },
     "execution_count": 40,
     "metadata": {},
     "output_type": "execute_result"
    }
   ],
   "source": [
    "df_tg"
   ]
  },
  {
   "cell_type": "code",
   "execution_count": null,
   "metadata": {},
   "outputs": [],
   "source": []
  }
 ],
 "metadata": {
  "kernelspec": {
   "display_name": "fbagpuenv",
   "language": "python",
   "name": "python3"
  },
  "language_info": {
   "codemirror_mode": {
    "name": "ipython",
    "version": 3
   },
   "file_extension": ".py",
   "mimetype": "text/x-python",
   "name": "python",
   "nbconvert_exporter": "python",
   "pygments_lexer": "ipython3",
   "version": "3.10.12"
  }
 },
 "nbformat": 4,
 "nbformat_minor": 2
}
